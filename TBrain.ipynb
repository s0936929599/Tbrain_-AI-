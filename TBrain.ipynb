{
 "cells": [
  {
   "cell_type": "code",
   "execution_count": 1,
   "metadata": {},
   "outputs": [
    {
     "name": "stderr",
     "output_type": "stream",
     "text": [
      "C:\\Users\\colin.huang\\AppData\\Local\\Continuum\\anaconda3\\lib\\site-packages\\sklearn\\cross_validation.py:41: DeprecationWarning: This module was deprecated in version 0.18 in favor of the model_selection module into which all the refactored classes and functions are moved. Also note that the interface of the new CV iterators are different from that of this module. This module will be removed in 0.20.\n",
      "  \"This module will be removed in 0.20.\", DeprecationWarning)\n",
      "C:\\Users\\colin.huang\\AppData\\Local\\Continuum\\anaconda3\\lib\\site-packages\\h5py\\__init__.py:34: FutureWarning: Conversion of the second argument of issubdtype from `float` to `np.floating` is deprecated. In future, it will be treated as `np.float64 == np.dtype(float).type`.\n",
      "  from ._conv import register_converters as _register_converters\n",
      "Using TensorFlow backend.\n"
     ]
    }
   ],
   "source": [
    "import pandas as pd\n",
    "import numpy as np\n",
    "from sklearn.cross_validation import train_test_split\n",
    "import matplotlib.pyplot as plt \n",
    "import seaborn as sns\n",
    "from sklearn.svm import SVR\n",
    "from xgboost import XGBClassifier\n",
    "from sklearn.model_selection import KFold\n",
    "import xgboost as xgb\n",
    "import lightgbm as lgb\n",
    "from fancyimpute import KNN  \n",
    "from sklearn.ensemble import RandomForestRegressor\n",
    "from sklearn.preprocessing import MinMaxScaler\n",
    "from sklearn.preprocessing import StandardScaler"
   ]
  },
  {
   "cell_type": "code",
   "execution_count": 48,
   "metadata": {
    "collapsed": true
   },
   "outputs": [],
   "source": [
    "from sklearn.preprocessing import MinMaxScaler\n",
    "from sklearn.preprocessing import StandardScaler\n",
    "scaler = StandardScaler()\n",
    "#scaled = scaler.fit_transform(df)dd\n",
    "#unscaled = scaler.inverse_transform(scaled)"
   ]
  },
  {
   "cell_type": "code",
   "execution_count": 96,
   "metadata": {
    "collapsed": true
   },
   "outputs": [],
   "source": [
    "train['new_feature']=train['total_price']/train['building_area']\n"
   ]
  },
  {
   "cell_type": "code",
   "execution_count": 112,
   "metadata": {
    "collapsed": true
   },
   "outputs": [],
   "source": [
    "X=train.iloc[:,1:-2]\n",
    "#Y=scaler.fit_transform(train.iloc[:,-1].reshape(-1,1))\n",
    "#Y=np.log(train.iloc[:,-1])\n",
    "Y=(train.iloc[:,-1])\n",
    "X_NA=train_NA.iloc[:,1:-1]\n",
    "Y_NA=train_NA.iloc[:,-1]"
   ]
  },
  {
   "cell_type": "code",
   "execution_count": 47,
   "metadata": {},
   "outputs": [
    {
     "data": {
      "text/plain": [
       "array([8401.66745888])"
      ]
     },
     "execution_count": 47,
     "metadata": {},
     "output_type": "execute_result"
    }
   ],
   "source": [
    "X_train, X_test, y_train, y_test = train_test_split(X, Y, test_size=0.3, random_state=42)\n",
    "#X_train, X_test, y_train, y_test = train_test_split(X_NA, Y_NA, test_size=0.3, random_state=42)\n",
    "#X_train, X_test, y_train, y_test = train_test_split(ans, Y_NA, test_size=0.3, random_state=42)\n",
    "model=xgb.XGBRegressor(n_estimators=500,max_depth=17,nthread=7,seed=100,learning_rate=0.05,objective='reg:linear',\n",
    "                                   )\n",
    "model.fit(X_train,y_train)\n",
    "\n",
    "ans=model.predict(X_test)\n",
    "\n",
    "score(ans,np.array(y_test)) #4946.4"
   ]
  },
  {
   "cell_type": "code",
   "execution_count": 113,
   "metadata": {
    "collapsed": true
   },
   "outputs": [],
   "source": [
    "model=xgb.XGBRegressor(n_estimators=700,max_depth=16,nthread=7,seed=100,learning_rate=0.05)"
   ]
  },
  {
   "cell_type": "code",
   "execution_count": 114,
   "metadata": {},
   "outputs": [
    {
     "data": {
      "text/plain": [
       "XGBRegressor(base_score=0.5, booster='gbtree', colsample_bylevel=1,\n",
       "       colsample_bytree=1, gamma=0, learning_rate=0.05, max_delta_step=0,\n",
       "       max_depth=16, min_child_weight=1, missing=None, n_estimators=700,\n",
       "       n_jobs=1, nthread=7, objective='reg:linear', random_state=0,\n",
       "       reg_alpha=0, reg_lambda=1, scale_pos_weight=1, seed=100,\n",
       "       silent=True, subsample=1)"
      ]
     },
     "execution_count": 114,
     "metadata": {},
     "output_type": "execute_result"
    }
   ],
   "source": [
    "model.fit(X,Y)"
   ]
  },
  {
   "cell_type": "markdown",
   "metadata": {},
   "source": [
    "# XGBoost"
   ]
  },
  {
   "cell_type": "code",
   "execution_count": 158,
   "metadata": {},
   "outputs": [
    {
     "name": "stdout",
     "output_type": "stream",
     "text": [
      "lr= 0.1 depth= 10 now fold: 1  score= 4156.607772312238\n",
      "lr= 0.1 depth= 10 now fold: 2  score= 4230.753325565148\n",
      "lr= 0.1 depth= 10 now fold: 3  score= 4210.8002373513855\n",
      "lr= 0.1 depth= 10 now fold: 4  score= 4175.79584351925\n",
      "lr= 0.1 depth= 10 now fold: 5  score= 4124.965148975333\n",
      "lr= 0.1 depth= 11 now fold: 1  score= 4332.445818080548\n",
      "lr= 0.1 depth= 11 now fold: 2  score= 4385.768677482323\n",
      "lr= 0.1 depth= 11 now fold: 3  score= 4434.975492535057\n",
      "lr= 0.1 depth= 11 now fold: 4  score= 4439.139779941395\n",
      "lr= 0.1 depth= 11 now fold: 5  score= 4409.14220479562\n",
      "lr= 0.1 depth= 12 now fold: 1  score= 4578.291105219594\n",
      "lr= 0.1 depth= 12 now fold: 2  score= 4552.448340899642\n",
      "lr= 0.1 depth= 12 now fold: 3  score= 4563.317247972148\n",
      "lr= 0.1 depth= 12 now fold: 4  score= 4555.814031931248\n",
      "lr= 0.1 depth= 12 now fold: 5  score= 4594.983489912719\n",
      "lr= 0.1 depth= 13 now fold: 1  score= 4735.795812283651\n",
      "lr= 0.1 depth= 13 now fold: 2  score= 4620.780749743327\n",
      "lr= 0.1 depth= 13 now fold: 3  score= 4746.656512651648\n",
      "lr= 0.1 depth= 13 now fold: 4  score= 4735.819554710609\n",
      "lr= 0.1 depth= 13 now fold: 5  score= 4671.654707411358\n",
      "lr= 0.1 depth= 14 now fold: 1  score= 4842.465199040422\n",
      "lr= 0.1 depth= 14 now fold: 2  score= 4869.121946575742\n",
      "lr= 0.1 depth= 14 now fold: 3  score= 4963.3268878083645\n",
      "lr= 0.1 depth= 14 now fold: 4  score= 4799.989880111633\n",
      "lr= 0.1 depth= 14 now fold: 5  score= 4744.989079339334\n",
      "lr= 0.1 depth= 15 now fold: 1  score= 4924.13481174977\n",
      "lr= 0.1 depth= 15 now fold: 2  "
     ]
    },
    {
     "ename": "KeyboardInterrupt",
     "evalue": "",
     "output_type": "error",
     "traceback": [
      "\u001b[1;31m---------------------------------------------------------------------------\u001b[0m",
      "\u001b[1;31mKeyboardInterrupt\u001b[0m                         Traceback (most recent call last)",
      "\u001b[1;32m<ipython-input-158-e42ec3561149>\u001b[0m in \u001b[0;36m<module>\u001b[1;34m()\u001b[0m\n\u001b[0;32m     11\u001b[0m             \u001b[0mprint\u001b[0m\u001b[1;33m(\u001b[0m\u001b[1;34m\"lr=\"\u001b[0m\u001b[1;33m,\u001b[0m\u001b[0ml\u001b[0m\u001b[1;33m,\u001b[0m\u001b[1;34m\"depth=\"\u001b[0m\u001b[1;33m,\u001b[0m\u001b[0mm\u001b[0m\u001b[1;33m,\u001b[0m\u001b[1;34m\"now fold:\"\u001b[0m\u001b[1;33m,\u001b[0m\u001b[0mk\u001b[0m\u001b[1;33m,\u001b[0m\u001b[0mend\u001b[0m\u001b[1;33m=\u001b[0m\u001b[1;34m\"  \"\u001b[0m\u001b[1;33m)\u001b[0m\u001b[1;33m\u001b[0m\u001b[0m\n\u001b[0;32m     12\u001b[0m             \u001b[0mX_train\u001b[0m\u001b[1;33m,\u001b[0m \u001b[0mX_test\u001b[0m\u001b[1;33m,\u001b[0m \u001b[0my_train\u001b[0m\u001b[1;33m,\u001b[0m \u001b[0my_test\u001b[0m \u001b[1;33m=\u001b[0m \u001b[0mX\u001b[0m\u001b[1;33m.\u001b[0m\u001b[0miloc\u001b[0m\u001b[1;33m[\u001b[0m\u001b[0mtrain_index\u001b[0m\u001b[1;33m,\u001b[0m\u001b[1;33m:\u001b[0m\u001b[1;33m]\u001b[0m\u001b[1;33m,\u001b[0m \u001b[0mX\u001b[0m\u001b[1;33m.\u001b[0m\u001b[0miloc\u001b[0m\u001b[1;33m[\u001b[0m\u001b[0mtest_index\u001b[0m\u001b[1;33m,\u001b[0m\u001b[1;33m:\u001b[0m\u001b[1;33m]\u001b[0m\u001b[1;33m,\u001b[0m \u001b[0mY\u001b[0m\u001b[1;33m[\u001b[0m\u001b[0mtrain_index\u001b[0m\u001b[1;33m]\u001b[0m\u001b[1;33m,\u001b[0m \u001b[0mY\u001b[0m\u001b[1;33m[\u001b[0m\u001b[0mtest_index\u001b[0m\u001b[1;33m]\u001b[0m\u001b[1;33m\u001b[0m\u001b[0m\n\u001b[1;32m---> 13\u001b[1;33m             \u001b[0mxgb_model\u001b[0m\u001b[1;33m.\u001b[0m\u001b[0mfit\u001b[0m\u001b[1;33m(\u001b[0m\u001b[0mX_train\u001b[0m\u001b[1;33m,\u001b[0m \u001b[0my_train\u001b[0m\u001b[1;33m)\u001b[0m\u001b[1;33m\u001b[0m\u001b[0m\n\u001b[0m\u001b[0;32m     14\u001b[0m             \u001b[0mans\u001b[0m\u001b[1;33m=\u001b[0m\u001b[0mxgb_model\u001b[0m\u001b[1;33m.\u001b[0m\u001b[0mpredict\u001b[0m\u001b[1;33m(\u001b[0m\u001b[0mX_test\u001b[0m\u001b[1;33m)\u001b[0m\u001b[1;33m\u001b[0m\u001b[0m\n\u001b[0;32m     15\u001b[0m             \u001b[0mscores\u001b[0m\u001b[1;33m.\u001b[0m\u001b[0mappend\u001b[0m\u001b[1;33m(\u001b[0m\u001b[0mscore\u001b[0m\u001b[1;33m(\u001b[0m\u001b[0mans\u001b[0m\u001b[1;33m,\u001b[0m \u001b[0mnp\u001b[0m\u001b[1;33m.\u001b[0m\u001b[0marray\u001b[0m\u001b[1;33m(\u001b[0m\u001b[0my_test\u001b[0m\u001b[1;33m)\u001b[0m\u001b[1;33m)\u001b[0m\u001b[1;33m)\u001b[0m\u001b[1;33m\u001b[0m\u001b[0m\n",
      "\u001b[1;32m~\\AppData\\Local\\Continuum\\anaconda3\\lib\\site-packages\\xgboost\\sklearn.py\u001b[0m in \u001b[0;36mfit\u001b[1;34m(self, X, y, sample_weight, eval_set, eval_metric, early_stopping_rounds, verbose, xgb_model, sample_weight_eval_set)\u001b[0m\n\u001b[0;32m    326\u001b[0m                               \u001b[0mearly_stopping_rounds\u001b[0m\u001b[1;33m=\u001b[0m\u001b[0mearly_stopping_rounds\u001b[0m\u001b[1;33m,\u001b[0m\u001b[1;33m\u001b[0m\u001b[0m\n\u001b[0;32m    327\u001b[0m                               \u001b[0mevals_result\u001b[0m\u001b[1;33m=\u001b[0m\u001b[0mevals_result\u001b[0m\u001b[1;33m,\u001b[0m \u001b[0mobj\u001b[0m\u001b[1;33m=\u001b[0m\u001b[0mobj\u001b[0m\u001b[1;33m,\u001b[0m \u001b[0mfeval\u001b[0m\u001b[1;33m=\u001b[0m\u001b[0mfeval\u001b[0m\u001b[1;33m,\u001b[0m\u001b[1;33m\u001b[0m\u001b[0m\n\u001b[1;32m--> 328\u001b[1;33m                               verbose_eval=verbose, xgb_model=xgb_model)\n\u001b[0m\u001b[0;32m    329\u001b[0m \u001b[1;33m\u001b[0m\u001b[0m\n\u001b[0;32m    330\u001b[0m         \u001b[1;32mif\u001b[0m \u001b[0mevals_result\u001b[0m\u001b[1;33m:\u001b[0m\u001b[1;33m\u001b[0m\u001b[0m\n",
      "\u001b[1;32m~\\AppData\\Local\\Continuum\\anaconda3\\lib\\site-packages\\xgboost\\training.py\u001b[0m in \u001b[0;36mtrain\u001b[1;34m(params, dtrain, num_boost_round, evals, obj, feval, maximize, early_stopping_rounds, evals_result, verbose_eval, xgb_model, callbacks, learning_rates)\u001b[0m\n\u001b[0;32m    208\u001b[0m                            \u001b[0mevals\u001b[0m\u001b[1;33m=\u001b[0m\u001b[0mevals\u001b[0m\u001b[1;33m,\u001b[0m\u001b[1;33m\u001b[0m\u001b[0m\n\u001b[0;32m    209\u001b[0m                            \u001b[0mobj\u001b[0m\u001b[1;33m=\u001b[0m\u001b[0mobj\u001b[0m\u001b[1;33m,\u001b[0m \u001b[0mfeval\u001b[0m\u001b[1;33m=\u001b[0m\u001b[0mfeval\u001b[0m\u001b[1;33m,\u001b[0m\u001b[1;33m\u001b[0m\u001b[0m\n\u001b[1;32m--> 210\u001b[1;33m                            xgb_model=xgb_model, callbacks=callbacks)\n\u001b[0m\u001b[0;32m    211\u001b[0m \u001b[1;33m\u001b[0m\u001b[0m\n\u001b[0;32m    212\u001b[0m \u001b[1;33m\u001b[0m\u001b[0m\n",
      "\u001b[1;32m~\\AppData\\Local\\Continuum\\anaconda3\\lib\\site-packages\\xgboost\\training.py\u001b[0m in \u001b[0;36m_train_internal\u001b[1;34m(params, dtrain, num_boost_round, evals, obj, feval, xgb_model, callbacks)\u001b[0m\n\u001b[0;32m     72\u001b[0m         \u001b[1;31m# Skip the first update if it is a recovery step.\u001b[0m\u001b[1;33m\u001b[0m\u001b[1;33m\u001b[0m\u001b[0m\n\u001b[0;32m     73\u001b[0m         \u001b[1;32mif\u001b[0m \u001b[0mversion\u001b[0m \u001b[1;33m%\u001b[0m \u001b[1;36m2\u001b[0m \u001b[1;33m==\u001b[0m \u001b[1;36m0\u001b[0m\u001b[1;33m:\u001b[0m\u001b[1;33m\u001b[0m\u001b[0m\n\u001b[1;32m---> 74\u001b[1;33m             \u001b[0mbst\u001b[0m\u001b[1;33m.\u001b[0m\u001b[0mupdate\u001b[0m\u001b[1;33m(\u001b[0m\u001b[0mdtrain\u001b[0m\u001b[1;33m,\u001b[0m \u001b[0mi\u001b[0m\u001b[1;33m,\u001b[0m \u001b[0mobj\u001b[0m\u001b[1;33m)\u001b[0m\u001b[1;33m\u001b[0m\u001b[0m\n\u001b[0m\u001b[0;32m     75\u001b[0m             \u001b[0mbst\u001b[0m\u001b[1;33m.\u001b[0m\u001b[0msave_rabit_checkpoint\u001b[0m\u001b[1;33m(\u001b[0m\u001b[1;33m)\u001b[0m\u001b[1;33m\u001b[0m\u001b[0m\n\u001b[0;32m     76\u001b[0m             \u001b[0mversion\u001b[0m \u001b[1;33m+=\u001b[0m \u001b[1;36m1\u001b[0m\u001b[1;33m\u001b[0m\u001b[0m\n",
      "\u001b[1;32m~\\AppData\\Local\\Continuum\\anaconda3\\lib\\site-packages\\xgboost\\core.py\u001b[0m in \u001b[0;36mupdate\u001b[1;34m(self, dtrain, iteration, fobj)\u001b[0m\n\u001b[0;32m   1019\u001b[0m         \u001b[1;32mif\u001b[0m \u001b[0mfobj\u001b[0m \u001b[1;32mis\u001b[0m \u001b[1;32mNone\u001b[0m\u001b[1;33m:\u001b[0m\u001b[1;33m\u001b[0m\u001b[0m\n\u001b[0;32m   1020\u001b[0m             _check_call(_LIB.XGBoosterUpdateOneIter(self.handle, ctypes.c_int(iteration),\n\u001b[1;32m-> 1021\u001b[1;33m                                                     dtrain.handle))\n\u001b[0m\u001b[0;32m   1022\u001b[0m         \u001b[1;32melse\u001b[0m\u001b[1;33m:\u001b[0m\u001b[1;33m\u001b[0m\u001b[0m\n\u001b[0;32m   1023\u001b[0m             \u001b[0mpred\u001b[0m \u001b[1;33m=\u001b[0m \u001b[0mself\u001b[0m\u001b[1;33m.\u001b[0m\u001b[0mpredict\u001b[0m\u001b[1;33m(\u001b[0m\u001b[0mdtrain\u001b[0m\u001b[1;33m)\u001b[0m\u001b[1;33m\u001b[0m\u001b[0m\n",
      "\u001b[1;31mKeyboardInterrupt\u001b[0m: "
     ]
    }
   ],
   "source": [
    "lr=[0.1,0.01,0.001]\n",
    "max_depth=[10,11,12,13,14,15]\n",
    "for l in lr: \n",
    "    for m in max_depth:     \n",
    "        scores=[]\n",
    "        xgb_model=xgb.XGBRegressor(n_estimators=200,max_depth=m,nthread=7,seed=100,learning_rate=l)\n",
    "        cv=KFold(n_splits=5, random_state=None, shuffle=False)\n",
    "        k=1\n",
    "        for train_index, test_index in cv.split(X):\n",
    "            print(\"lr=\",l,\"depth=\",m,\"now fold:\",k,end=\"  \")\n",
    "            X_train, X_test, y_train, y_test = X.iloc[train_index,:], X.iloc[test_index,:], Y[train_index], Y[test_index]\n",
    "            xgb_model.fit(X_train, y_train)\n",
    "            ans=xgb_model.predict(X_test)\n",
    "            scores.append(score(ans, np.array(y_test)))\n",
    "            print(\"score=\",scores[k-1])\n",
    "            k+=1\n",
    "    #print(\"scores=\",np.mean(scores))"
   ]
  },
  {
   "cell_type": "code",
   "execution_count": 30,
   "metadata": {
    "collapsed": true
   },
   "outputs": [],
   "source": [
    "def score(y_predict,y_true):\n",
    "    score_hit_rate=[]\n",
    "    score_mape=[]\n",
    "    for i in range(len(y_predict)):\n",
    "        ans=(np.abs(y_predict[i]-y_true[i]))/y_true[i]\n",
    "        if ans>0.1:\n",
    "            hit_rate=0\n",
    "        else:\n",
    "            hit_rate=1\n",
    "        score_hit_rate.append(hit_rate)\n",
    "        score_mape.append(ans)\n",
    "    score=((round(sum(score_hit_rate),4))/len(y_predict)*10000)+(1-((sum(score_mape))/len(y_predict)))\n",
    "    return(score)"
   ]
  },
  {
   "cell_type": "code",
   "execution_count": 115,
   "metadata": {
    "collapsed": true
   },
   "outputs": [],
   "source": [
    "submit_test.iloc[:,-1]=model.predict(test.iloc[:,1:])"
   ]
  },
  {
   "cell_type": "code",
   "execution_count": 116,
   "metadata": {
    "collapsed": true
   },
   "outputs": [],
   "source": [
    "#submit_test.iloc[:,-1]=np.expm1(submit_test.iloc[:,-1])*test['building_area']\n",
    "submit_test.iloc[:,-1]=(submit_test.iloc[:,-1])*test['building_area'] # NO LOG "
   ]
  },
  {
   "cell_type": "code",
   "execution_count": 55,
   "metadata": {
    "collapsed": true
   },
   "outputs": [],
   "source": [
    "submit_test.iloc[:,-1]=scaler.inverse_transform(submit_test.iloc[:,-1])"
   ]
  },
  {
   "cell_type": "code",
   "execution_count": 117,
   "metadata": {
    "collapsed": true
   },
   "outputs": [],
   "source": [
    "submit_test.to_csv(\"C:/Users/colin.huang/Desktop/submit_test3.csv\")"
   ]
  },
  {
   "cell_type": "code",
   "execution_count": 91,
   "metadata": {
    "collapsed": true
   },
   "outputs": [],
   "source": [
    "train=pd.read_csv(\"C:/Users/colin.huang/Desktop/train.csv\")\n",
    "#train=pd.read_csv(\"C:/Users/colin.huang/Desktop/train_drop.csv\")\n",
    "test=pd.read_csv(\"C:/Users/colin.huang/Desktop/test.csv\")\n",
    "#test=pd.read_csv(\"C:/Users/colin.huang/Desktop/test_drop.csv\")\n",
    "submit_test=pd.read_csv(\"C:/Users/colin.huang/Desktop/submit_test.csv\")\n",
    "\n",
    "null_columns_train=train.columns[train.isnull().any()] #check nan columns\n",
    "train[null_columns_train].isnull().sum() # how many in each columns\n",
    "null_columns_test=test.columns[test.isnull().any()]\n",
    "test[null_columns_test].isnull().sum()\n",
    "train_NA=train.drop(null_columns_train,axis=1)\n",
    "test_NA=test.drop(null_columns_test,axis=1)\n",
    "\n",
    "#alldata=pd.concat([train,test],axis=0)"
   ]
  },
  {
   "cell_type": "code",
   "execution_count": 53,
   "metadata": {},
   "outputs": [
    {
     "data": {
      "text/plain": [
       "parking_area             56897\n",
       "parking_price            46065\n",
       "txn_floor                15902\n",
       "village_income_median     1142\n",
       "dtype: int64"
      ]
     },
     "execution_count": 53,
     "metadata": {},
     "output_type": "execute_result"
    }
   ],
   "source": [
    "train[null_columns_train].isnull().sum()"
   ]
  },
  {
   "cell_type": "code",
   "execution_count": 49,
   "metadata": {
    "collapsed": true
   },
   "outputs": [],
   "source": [
    "cor=train.corr()"
   ]
  },
  {
   "cell_type": "code",
   "execution_count": 50,
   "metadata": {},
   "outputs": [
    {
     "data": {
      "text/plain": [
       "total_price              1.000000\n",
       "building_area            0.459167\n",
       "parking_price            0.458674\n",
       "parking_area             0.377045\n",
       "land_area                0.313409\n",
       "master_rate              0.168603\n",
       "bachelor_rate            0.168585\n",
       "doc_Rate                 0.165599\n",
       "XIII_5000                0.161861\n",
       "jobschool_rate           0.150532\n",
       "village_income_median    0.145541\n",
       "VII_5000                 0.140251\n",
       "V_5000                   0.136286\n",
       "VII_1000                 0.135433\n",
       "V_1000                   0.135189\n",
       "XIII_10000               0.134800\n",
       "IX_5000                  0.133290\n",
       "VII_10000                0.133018\n",
       "XI_10000                 0.131184\n",
       "V_500                    0.130854\n",
       "VI_10000                 0.130448\n",
       "IX_1000                  0.129597\n",
       "IX_10000                 0.129468\n",
       "V_10000                  0.128324\n",
       "VII_500                  0.127891\n",
       "VIII_5000                0.126393\n",
       "VIII_10000               0.124815\n",
       "III_10000                0.124746\n",
       "VI_5000                  0.124249\n",
       "X_10000                  0.123970\n",
       "                           ...   \n",
       "town                    -0.050362\n",
       "VI_MIN                  -0.056205\n",
       "IV_MIN                  -0.059686\n",
       "parking_way             -0.090435\n",
       "divorce_rate            -0.109466\n",
       "elementary_rate         -0.131030\n",
       "junior_rate             -0.147248\n",
       "highschool_rate         -0.164966\n",
       "I_index_5000                  NaN\n",
       "I_index_10000                 NaN\n",
       "II_index_5000                 NaN\n",
       "II_index_10000                NaN\n",
       "III_index_5000                NaN\n",
       "III_index_10000               NaN\n",
       "IV_index_10000                NaN\n",
       "V_index_5000                  NaN\n",
       "V_index_10000                 NaN\n",
       "VI_index_5000                 NaN\n",
       "VI_index_10000                NaN\n",
       "VII_index_5000                NaN\n",
       "VII_index_10000               NaN\n",
       "VIII_index_5000               NaN\n",
       "VIII_index_10000              NaN\n",
       "IX_index_10000                NaN\n",
       "X_index_5000                  NaN\n",
       "X_index_10000                 NaN\n",
       "XII_index_5000                NaN\n",
       "XII_index_10000               NaN\n",
       "XIV_index_5000                NaN\n",
       "XIV_index_10000               NaN\n",
       "Name: total_price, Length: 234, dtype: float64"
      ]
     },
     "execution_count": 50,
     "metadata": {},
     "output_type": "execute_result"
    }
   ],
   "source": [
    "cor[\"total_price\"].sort_values(ascending=False)\n"
   ]
  }
 ],
 "metadata": {
  "kernelspec": {
   "display_name": "Python 3",
   "language": "python",
   "name": "python3"
  },
  "language_info": {
   "codemirror_mode": {
    "name": "ipython",
    "version": 3
   },
   "file_extension": ".py",
   "mimetype": "text/x-python",
   "name": "python",
   "nbconvert_exporter": "python",
   "pygments_lexer": "ipython3",
   "version": "3.6.3"
  }
 },
 "nbformat": 4,
 "nbformat_minor": 2
}
